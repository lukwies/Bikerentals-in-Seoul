{
 "cells": [
  {
   "cell_type": "markdown",
   "id": "2dc84f44",
   "metadata": {},
   "source": [
    "<img width=\"200\" src=\"https://raw.githubusercontent.com/lukwies/mid-bootcamp-project/main/data/img/bikes.png\">                     \n",
    "                     \n",
    "# Bikesharing in Seoul / Hypothesis Tesing\n",
    "\n",
    "---\n",
    "\n",
    "### Sources\n",
    "\n",
    " * Data: https://archive.ics.uci.edu/ml/datasets/Seoul+Bike+Sharing+Demand\n",
    " * Image: https://global.chinadaily.com.cn/a/201801/25/WS5a69cab3a3106e7dcc136a6d.html\n",
    "\n",
    "---\n",
    "\n",
    "### Hypothesis\n",
    " 1. The daily rental amount differs from 400 bikes/hour.\n",
    " 2. We have a higher rental amount while holidays.\n",
    " 3. The average rental amount is less if weather is cold (< 10°C)\n",
    " 4. The average rental amount is higher at day (8°°-19°°) than at night."
   ]
  },
  {
   "cell_type": "code",
   "execution_count": 1,
   "id": "d0a2e635",
   "metadata": {},
   "outputs": [],
   "source": [
    "import pandas as pd\n",
    "import numpy as np\n",
    "import scipy.stats as st\n",
    "import yaml"
   ]
  },
  {
   "cell_type": "markdown",
   "id": "ad35d709",
   "metadata": {},
   "source": [
    "#### Load YAML config file"
   ]
  },
  {
   "cell_type": "code",
   "execution_count": 2,
   "id": "ea441b6b",
   "metadata": {},
   "outputs": [],
   "source": [
    "with open('../params.yaml') as file:\n",
    "    config = yaml.safe_load(file)"
   ]
  },
  {
   "cell_type": "markdown",
   "id": "f66b09bd",
   "metadata": {},
   "source": [
    "#### Read cleaned data to pandas"
   ]
  },
  {
   "cell_type": "code",
   "execution_count": 3,
   "id": "7cbf7efe",
   "metadata": {
    "scrolled": true
   },
   "outputs": [
    {
     "data": {
      "text/html": [
       "<div>\n",
       "<style scoped>\n",
       "    .dataframe tbody tr th:only-of-type {\n",
       "        vertical-align: middle;\n",
       "    }\n",
       "\n",
       "    .dataframe tbody tr th {\n",
       "        vertical-align: top;\n",
       "    }\n",
       "\n",
       "    .dataframe thead th {\n",
       "        text-align: right;\n",
       "    }\n",
       "</style>\n",
       "<table border=\"1\" class=\"dataframe\">\n",
       "  <thead>\n",
       "    <tr style=\"text-align: right;\">\n",
       "      <th></th>\n",
       "      <th>date</th>\n",
       "      <th>month</th>\n",
       "      <th>hour</th>\n",
       "      <th>daytime</th>\n",
       "      <th>seasons</th>\n",
       "      <th>holiday</th>\n",
       "      <th>functioning_day</th>\n",
       "      <th>temperature</th>\n",
       "      <th>temperature_type</th>\n",
       "      <th>humidity</th>\n",
       "      <th>wind_speed</th>\n",
       "      <th>visibility</th>\n",
       "      <th>solar_radiation</th>\n",
       "      <th>rainfall</th>\n",
       "      <th>snowfall</th>\n",
       "      <th>rented_bike_count</th>\n",
       "    </tr>\n",
       "  </thead>\n",
       "  <tbody>\n",
       "    <tr>\n",
       "      <th>0</th>\n",
       "      <td>2017-12-01</td>\n",
       "      <td>12</td>\n",
       "      <td>0</td>\n",
       "      <td>Night</td>\n",
       "      <td>Winter</td>\n",
       "      <td>No</td>\n",
       "      <td>Yes</td>\n",
       "      <td>-5.2</td>\n",
       "      <td>Frost</td>\n",
       "      <td>37</td>\n",
       "      <td>2.2</td>\n",
       "      <td>2000</td>\n",
       "      <td>0.0</td>\n",
       "      <td>0.0</td>\n",
       "      <td>0.0</td>\n",
       "      <td>254</td>\n",
       "    </tr>\n",
       "    <tr>\n",
       "      <th>1</th>\n",
       "      <td>2017-12-01</td>\n",
       "      <td>12</td>\n",
       "      <td>1</td>\n",
       "      <td>Night</td>\n",
       "      <td>Winter</td>\n",
       "      <td>No</td>\n",
       "      <td>Yes</td>\n",
       "      <td>-5.5</td>\n",
       "      <td>Frost</td>\n",
       "      <td>38</td>\n",
       "      <td>0.8</td>\n",
       "      <td>2000</td>\n",
       "      <td>0.0</td>\n",
       "      <td>0.0</td>\n",
       "      <td>0.0</td>\n",
       "      <td>204</td>\n",
       "    </tr>\n",
       "    <tr>\n",
       "      <th>2</th>\n",
       "      <td>2017-12-01</td>\n",
       "      <td>12</td>\n",
       "      <td>2</td>\n",
       "      <td>Night</td>\n",
       "      <td>Winter</td>\n",
       "      <td>No</td>\n",
       "      <td>Yes</td>\n",
       "      <td>-6.0</td>\n",
       "      <td>Frost</td>\n",
       "      <td>39</td>\n",
       "      <td>1.0</td>\n",
       "      <td>2000</td>\n",
       "      <td>0.0</td>\n",
       "      <td>0.0</td>\n",
       "      <td>0.0</td>\n",
       "      <td>173</td>\n",
       "    </tr>\n",
       "    <tr>\n",
       "      <th>3</th>\n",
       "      <td>2017-12-01</td>\n",
       "      <td>12</td>\n",
       "      <td>3</td>\n",
       "      <td>Night</td>\n",
       "      <td>Winter</td>\n",
       "      <td>No</td>\n",
       "      <td>Yes</td>\n",
       "      <td>-6.2</td>\n",
       "      <td>Frost</td>\n",
       "      <td>40</td>\n",
       "      <td>0.9</td>\n",
       "      <td>2000</td>\n",
       "      <td>0.0</td>\n",
       "      <td>0.0</td>\n",
       "      <td>0.0</td>\n",
       "      <td>107</td>\n",
       "    </tr>\n",
       "    <tr>\n",
       "      <th>4</th>\n",
       "      <td>2017-12-01</td>\n",
       "      <td>12</td>\n",
       "      <td>4</td>\n",
       "      <td>Morning</td>\n",
       "      <td>Winter</td>\n",
       "      <td>No</td>\n",
       "      <td>Yes</td>\n",
       "      <td>-6.0</td>\n",
       "      <td>Frost</td>\n",
       "      <td>36</td>\n",
       "      <td>2.3</td>\n",
       "      <td>2000</td>\n",
       "      <td>0.0</td>\n",
       "      <td>0.0</td>\n",
       "      <td>0.0</td>\n",
       "      <td>78</td>\n",
       "    </tr>\n",
       "  </tbody>\n",
       "</table>\n",
       "</div>"
      ],
      "text/plain": [
       "         date  month  hour  daytime seasons holiday functioning_day  \\\n",
       "0  2017-12-01     12     0    Night  Winter      No             Yes   \n",
       "1  2017-12-01     12     1    Night  Winter      No             Yes   \n",
       "2  2017-12-01     12     2    Night  Winter      No             Yes   \n",
       "3  2017-12-01     12     3    Night  Winter      No             Yes   \n",
       "4  2017-12-01     12     4  Morning  Winter      No             Yes   \n",
       "\n",
       "   temperature temperature_type  humidity  wind_speed  visibility  \\\n",
       "0         -5.2            Frost        37         2.2        2000   \n",
       "1         -5.5            Frost        38         0.8        2000   \n",
       "2         -6.0            Frost        39         1.0        2000   \n",
       "3         -6.2            Frost        40         0.9        2000   \n",
       "4         -6.0            Frost        36         2.3        2000   \n",
       "\n",
       "   solar_radiation  rainfall  snowfall  rented_bike_count  \n",
       "0              0.0       0.0       0.0                254  \n",
       "1              0.0       0.0       0.0                204  \n",
       "2              0.0       0.0       0.0                173  \n",
       "3              0.0       0.0       0.0                107  \n",
       "4              0.0       0.0       0.0                 78  "
      ]
     },
     "execution_count": 3,
     "metadata": {},
     "output_type": "execute_result"
    }
   ],
   "source": [
    "df = pd.read_csv(config['data']['csv_cleaned'])\n",
    "df.head()"
   ]
  },
  {
   "cell_type": "markdown",
   "id": "094ece30",
   "metadata": {},
   "source": [
    "#### For all tests, we use a significance level of 95%."
   ]
  },
  {
   "cell_type": "code",
   "execution_count": 4,
   "id": "352a0e2d",
   "metadata": {},
   "outputs": [],
   "source": [
    "alpha = 0.05"
   ]
  },
  {
   "cell_type": "markdown",
   "id": "444d3c4f",
   "metadata": {},
   "source": [
    "<br><br>\n",
    "### Hypothesis: The average rental amount differs from **400 bikes/hour**.\n",
    "\n",
    " + **H0**: sample_mean == 400\n",
    " + **H1**: sample_mean != 400\n",
    "\n",
    "So let's perform a t-test for a **95% two-sided** confidence interval."
   ]
  },
  {
   "cell_type": "code",
   "execution_count": 5,
   "id": "98d9a443",
   "metadata": {},
   "outputs": [],
   "source": [
    "sample = df['rented_bike_count']"
   ]
  },
  {
   "cell_type": "code",
   "execution_count": 6,
   "id": "07792114",
   "metadata": {},
   "outputs": [],
   "source": [
    "sample_mean = np.mean(sample)\n",
    "\n",
    "t_statistic    = (sample_mean - 400) / (np.std(sample,ddof=1) / np.sqrt(len(sample)))\n",
    "lower_critical = st.t.ppf((alpha/2), df=len(sample)-1)\n",
    "upper_critical = st.t.ppf(1-(alpha/2), df=len(sample)-1)"
   ]
  },
  {
   "cell_type": "code",
   "execution_count": 7,
   "id": "85eafaef",
   "metadata": {
    "scrolled": true
   },
   "outputs": [
    {
     "name": "stdout",
     "output_type": "stream",
     "text": [
      "Lower critical: -1.9602348594690915\n",
      "Statistic:      44.20046845157618\n",
      "Upper critical: 1.960234859469091\n"
     ]
    }
   ],
   "source": [
    "print(f\"Lower critical: {lower_critical}\")\n",
    "print(f\"Statistic:      {t_statistic}\")\n",
    "print(f\"Upper critical: {upper_critical}\")"
   ]
  },
  {
   "cell_type": "code",
   "execution_count": 8,
   "id": "53ed9479",
   "metadata": {},
   "outputs": [
    {
     "name": "stdout",
     "output_type": "stream",
     "text": [
      "Accept H0\n"
     ]
    }
   ],
   "source": [
    "print(\"Reject H0\" if lower_critical < t_statistic < upper_critical else \"Accept H0\")"
   ]
  },
  {
   "cell_type": "markdown",
   "id": "574636c7",
   "metadata": {},
   "source": [
    "#### Since 3.63 is significantly bigger than 1.9 we accept H0, so the average rental amount differs from 400 bikes/hour.\n",
    "<br><br>"
   ]
  },
  {
   "cell_type": "markdown",
   "id": "cbc61aea",
   "metadata": {},
   "source": [
    "### Hypothesis: We have a higher rental amount while holidays.\n",
    "\n",
    "We figured out, that the mean of rented bikes 700 outside of holidays.\n",
    "\n",
    " + **H0**: sample_mean <= 700\n",
    " + **H1**: sample_mean >  700\n",
    "\n",
    "Using a **95%** confidence interval on a **right-sided** test."
   ]
  },
  {
   "cell_type": "code",
   "execution_count": 9,
   "id": "50ebb75a",
   "metadata": {},
   "outputs": [],
   "source": [
    "sample = df[df['holiday']=='Yes']['rented_bike_count']"
   ]
  },
  {
   "cell_type": "code",
   "execution_count": 10,
   "id": "930af4e6",
   "metadata": {},
   "outputs": [
    {
     "name": "stdout",
     "output_type": "stream",
     "text": [
      "statistic: -7.291822564710907\n",
      "p-value:   0.9999999999992621\n"
     ]
    }
   ],
   "source": [
    "stat, pval = st.ttest_1samp(sample, popmean=700, alternative=\"greater\")\n",
    "\n",
    "print(f\"statistic: {stat}\")\n",
    "print(f\"p-value:   {pval}\")"
   ]
  },
  {
   "cell_type": "code",
   "execution_count": 11,
   "id": "d739b12b",
   "metadata": {
    "scrolled": true
   },
   "outputs": [
    {
     "name": "stdout",
     "output_type": "stream",
     "text": [
      "Accept H0\n"
     ]
    }
   ],
   "source": [
    "print(\"Reject H0\" if pval < 1-alpha else \"Accept H0\")"
   ]
  },
  {
   "cell_type": "markdown",
   "id": "49af0656",
   "metadata": {},
   "source": [
    "#### Since p-value is greater than our significance-level we accept H0, so on holidays there won't be more than 400 bike rentals in average for one day.\n",
    "<br><br>"
   ]
  },
  {
   "cell_type": "markdown",
   "id": "92589b66",
   "metadata": {},
   "source": [
    "### Hypothesis: The average rental amount is less if weather is cold (< 10°C)\n",
    "\n",
    "Let's assume the mean of rented bikes is 900 if the temperature is higher than 10°C.\n",
    "\n",
    " + **H0**: sample_mean >= 900\n",
    " + **H1**: sample_mean <  900\n",
    "\n",
    "Using a **95%** confidence interval on a **left-sided** test."
   ]
  },
  {
   "cell_type": "code",
   "execution_count": 12,
   "id": "31ce9178",
   "metadata": {},
   "outputs": [],
   "source": [
    "sample = df[df['temperature'] < 10]['rented_bike_count']"
   ]
  },
  {
   "cell_type": "code",
   "execution_count": 13,
   "id": "fc3e41f0",
   "metadata": {
    "scrolled": true
   },
   "outputs": [
    {
     "name": "stdout",
     "output_type": "stream",
     "text": [
      "statistic: -107.8023190503751\n",
      "p-value:   0.0\n"
     ]
    }
   ],
   "source": [
    "stat, pval = st.ttest_1samp(sample, popmean=900, alternative=\"less\")\n",
    "\n",
    "print(f\"statistic: {stat}\")\n",
    "print(f\"p-value:   {pval}\")"
   ]
  },
  {
   "cell_type": "code",
   "execution_count": 14,
   "id": "daf3ea15",
   "metadata": {
    "scrolled": true
   },
   "outputs": [
    {
     "name": "stdout",
     "output_type": "stream",
     "text": [
      "Reject H0\n"
     ]
    }
   ],
   "source": [
    "print(\"Reject H0\" if pval < alpha else \"Accept H0\")"
   ]
  },
  {
   "cell_type": "markdown",
   "id": "ef2bf132",
   "metadata": {},
   "source": [
    "#### Since p-value is less than our significance-level we reject H0, so the average rental amount is less on cold weather.\n",
    "<br><br>"
   ]
  },
  {
   "cell_type": "markdown",
   "id": "d68eb863",
   "metadata": {},
   "source": [
    "###  Hypothesis: The average rental amount is higher at day (8°° - 19°°) than at night.\n",
    "\n",
    "We assume the average nightly rental amount to be 530 (19°° - 8°°)\n",
    "\n",
    " + **H0**: sample_mean <= 530\n",
    " + **H1**: sample_mean >  530\n",
    "\n",
    "Using a **95%** confidence interval on a **right-sided** test."
   ]
  },
  {
   "cell_type": "code",
   "execution_count": 15,
   "id": "8926aacf",
   "metadata": {},
   "outputs": [],
   "source": [
    "sample = df[(df['hour'] >= 8) & (df['hour'] <= 19)]['rented_bike_count']"
   ]
  },
  {
   "cell_type": "code",
   "execution_count": 16,
   "id": "38fa7c26",
   "metadata": {
    "scrolled": true
   },
   "outputs": [
    {
     "name": "stdout",
     "output_type": "stream",
     "text": [
      "statistic: 34.25095231042117\n",
      "p-value:   2.5933691345497692e-228\n"
     ]
    }
   ],
   "source": [
    "stat, pval = st.ttest_1samp(sample, popmean=530, alternative=\"greater\")\n",
    "\n",
    "print(f\"statistic: {stat}\")\n",
    "print(f\"p-value:   {pval}\")"
   ]
  },
  {
   "cell_type": "code",
   "execution_count": 17,
   "id": "2aa6545c",
   "metadata": {
    "scrolled": true
   },
   "outputs": [
    {
     "name": "stdout",
     "output_type": "stream",
     "text": [
      "Reject H0\n"
     ]
    }
   ],
   "source": [
    "print(\"Reject H0\" if pval < 1-alpha else \"Accept H0\")"
   ]
  },
  {
   "cell_type": "markdown",
   "id": "412f7543",
   "metadata": {},
   "source": [
    "#### Since p-value is less than our significance-level we reject H0, so the average rental is higher at day.\n",
    "<br><br>"
   ]
  }
 ],
 "metadata": {
  "kernelspec": {
   "display_name": "Python 3 (ipykernel)",
   "language": "python",
   "name": "python3"
  },
  "language_info": {
   "codemirror_mode": {
    "name": "ipython",
    "version": 3
   },
   "file_extension": ".py",
   "mimetype": "text/x-python",
   "name": "python",
   "nbconvert_exporter": "python",
   "pygments_lexer": "ipython3",
   "version": "3.9.13"
  }
 },
 "nbformat": 4,
 "nbformat_minor": 5
}
