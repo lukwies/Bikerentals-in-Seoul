{
 "cells": [
  {
   "cell_type": "markdown",
   "id": "30ac48dc",
   "metadata": {},
   "source": [
    "<img width=\"200\" src=\"https://raw.githubusercontent.com/lukwies/mid-bootcamp-project/main/data/img/bikes.png\">\n",
    "\n",
    "---\n",
    "\n",
    "\n",
    "# Bikesharing in Seoul / Prediction\n",
    "\n",
    "---\n",
    "\n",
    "### Sources\n",
    "\n",
    " * Data: https://archive.ics.uci.edu/ml/datasets/Seoul+Bike+Sharing+Demand\n",
    " * Image: https://global.chinadaily.com.cn/a/201801/25/WS5a69cab3a3106e7dcc136a6d.html\n",
    "\n",
    "---\n",
    "\n",
    "### Tasks\n",
    "\n",
    " "
   ]
  },
  {
   "cell_type": "code",
   "execution_count": 1,
   "id": "2eab2343",
   "metadata": {},
   "outputs": [],
   "source": [
    "import pandas as pd\n",
    "import numpy as np\n",
    "import yaml\n",
    "import pickle\n",
    "import seaborn as sns\n",
    "import matplotlib.pyplot as plt\n",
    "\n",
    "from sklearn.model_selection import train_test_split\n",
    "from sklearn.preprocessing import OneHotEncoder\n",
    "from sklearn.preprocessing import StandardScaler, PowerTransformer, MinMaxScaler\n",
    "from sklearn.neighbors import KNeighborsRegressor"
   ]
  },
  {
   "cell_type": "markdown",
   "id": "4d89e9a9",
   "metadata": {},
   "source": [
    "#### Load YAML config file"
   ]
  },
  {
   "cell_type": "code",
   "execution_count": 2,
   "id": "92240b0e",
   "metadata": {},
   "outputs": [],
   "source": [
    "with open('../params.yaml') as file:\n",
    "    config = yaml.safe_load(file)"
   ]
  },
  {
   "cell_type": "markdown",
   "id": "8d75ad5c",
   "metadata": {},
   "source": [
    "#### Load cleaned dataset"
   ]
  },
  {
   "cell_type": "code",
   "execution_count": 3,
   "id": "11aa0e27",
   "metadata": {},
   "outputs": [],
   "source": [
    "df = pd.read_csv(config['data']['csv_cleaned'])"
   ]
  },
  {
   "cell_type": "markdown",
   "id": "fa64b525",
   "metadata": {},
   "source": [
    "#### Let's drop column date since we don't need it for prediction"
   ]
  },
  {
   "cell_type": "code",
   "execution_count": 4,
   "id": "f739410c",
   "metadata": {},
   "outputs": [],
   "source": [
    "df = df.drop(['date', 'daytime', 'seasons',\n",
    "              'functioning_day', 'temperature_type',\n",
    "              'solar_radiation'], axis=1)"
   ]
  },
  {
   "cell_type": "markdown",
   "id": "02790bc4",
   "metadata": {},
   "source": [
    "### Do X/y-split"
   ]
  },
  {
   "cell_type": "code",
   "execution_count": 5,
   "id": "1b98ce8a",
   "metadata": {},
   "outputs": [],
   "source": [
    "X = df.drop(['rented_bike_count'], axis=1)\n",
    "y = df['rented_bike_count']"
   ]
  },
  {
   "cell_type": "markdown",
   "id": "642a5666",
   "metadata": {},
   "source": [
    "### Do train/test-split"
   ]
  },
  {
   "cell_type": "code",
   "execution_count": 6,
   "id": "d1098625",
   "metadata": {},
   "outputs": [],
   "source": [
    "X_train,X_test,y_train,y_test = train_test_split(X, y,\n",
    "                                                 test_size=config['testsplit']['test_size'],\n",
    "                                                 random_state=config['testsplit']['random_state'])\n",
    "\n",
    "# Split training set into numerical and categorical columns\n",
    "X_train_num = X_train.select_dtypes(np.number)\n",
    "X_train_cat = X_train.select_dtypes(object)\n",
    "\n",
    "# Split test set into numerical and categorical columns\n",
    "X_test_num = X_test.select_dtypes(np.number)\n",
    "X_test_cat = X_test.select_dtypes(object)"
   ]
  },
  {
   "cell_type": "code",
   "execution_count": 7,
   "id": "53ad8a6b",
   "metadata": {},
   "outputs": [
    {
     "data": {
      "text/html": [
       "<div>\n",
       "<style scoped>\n",
       "    .dataframe tbody tr th:only-of-type {\n",
       "        vertical-align: middle;\n",
       "    }\n",
       "\n",
       "    .dataframe tbody tr th {\n",
       "        vertical-align: top;\n",
       "    }\n",
       "\n",
       "    .dataframe thead th {\n",
       "        text-align: right;\n",
       "    }\n",
       "</style>\n",
       "<table border=\"1\" class=\"dataframe\">\n",
       "  <thead>\n",
       "    <tr style=\"text-align: right;\">\n",
       "      <th></th>\n",
       "      <th>month</th>\n",
       "      <th>hour</th>\n",
       "      <th>weekday</th>\n",
       "      <th>temperature</th>\n",
       "      <th>humidity</th>\n",
       "      <th>wind_speed</th>\n",
       "      <th>visibility</th>\n",
       "      <th>rainfall</th>\n",
       "      <th>snowfall</th>\n",
       "    </tr>\n",
       "  </thead>\n",
       "  <tbody>\n",
       "    <tr>\n",
       "      <th>1444</th>\n",
       "      <td>1</td>\n",
       "      <td>4</td>\n",
       "      <td>1</td>\n",
       "      <td>-11.1</td>\n",
       "      <td>50</td>\n",
       "      <td>1.2</td>\n",
       "      <td>1986</td>\n",
       "      <td>0.0</td>\n",
       "      <td>0.0</td>\n",
       "    </tr>\n",
       "    <tr>\n",
       "      <th>1652</th>\n",
       "      <td>2</td>\n",
       "      <td>20</td>\n",
       "      <td>2</td>\n",
       "      <td>-5.8</td>\n",
       "      <td>44</td>\n",
       "      <td>2.1</td>\n",
       "      <td>1994</td>\n",
       "      <td>0.0</td>\n",
       "      <td>0.0</td>\n",
       "    </tr>\n",
       "    <tr>\n",
       "      <th>7496</th>\n",
       "      <td>10</td>\n",
       "      <td>8</td>\n",
       "      <td>1</td>\n",
       "      <td>11.4</td>\n",
       "      <td>66</td>\n",
       "      <td>0.8</td>\n",
       "      <td>1991</td>\n",
       "      <td>0.0</td>\n",
       "      <td>0.0</td>\n",
       "    </tr>\n",
       "    <tr>\n",
       "      <th>1893</th>\n",
       "      <td>2</td>\n",
       "      <td>21</td>\n",
       "      <td>5</td>\n",
       "      <td>-2.3</td>\n",
       "      <td>38</td>\n",
       "      <td>2.3</td>\n",
       "      <td>2000</td>\n",
       "      <td>0.0</td>\n",
       "      <td>0.0</td>\n",
       "    </tr>\n",
       "    <tr>\n",
       "      <th>3880</th>\n",
       "      <td>5</td>\n",
       "      <td>16</td>\n",
       "      <td>4</td>\n",
       "      <td>19.1</td>\n",
       "      <td>54</td>\n",
       "      <td>3.2</td>\n",
       "      <td>542</td>\n",
       "      <td>0.0</td>\n",
       "      <td>0.0</td>\n",
       "    </tr>\n",
       "  </tbody>\n",
       "</table>\n",
       "</div>"
      ],
      "text/plain": [
       "      month  hour  weekday  temperature  humidity  wind_speed  visibility  \\\n",
       "1444      1     4        1        -11.1        50         1.2        1986   \n",
       "1652      2    20        2         -5.8        44         2.1        1994   \n",
       "7496     10     8        1         11.4        66         0.8        1991   \n",
       "1893      2    21        5         -2.3        38         2.3        2000   \n",
       "3880      5    16        4         19.1        54         3.2         542   \n",
       "\n",
       "      rainfall  snowfall  \n",
       "1444       0.0       0.0  \n",
       "1652       0.0       0.0  \n",
       "7496       0.0       0.0  \n",
       "1893       0.0       0.0  \n",
       "3880       0.0       0.0  "
      ]
     },
     "execution_count": 7,
     "metadata": {},
     "output_type": "execute_result"
    }
   ],
   "source": [
    "X_train_num.head()"
   ]
  },
  {
   "cell_type": "code",
   "execution_count": 8,
   "id": "a538ef82",
   "metadata": {
    "scrolled": false
   },
   "outputs": [
    {
     "data": {
      "text/html": [
       "<div>\n",
       "<style scoped>\n",
       "    .dataframe tbody tr th:only-of-type {\n",
       "        vertical-align: middle;\n",
       "    }\n",
       "\n",
       "    .dataframe tbody tr th {\n",
       "        vertical-align: top;\n",
       "    }\n",
       "\n",
       "    .dataframe thead th {\n",
       "        text-align: right;\n",
       "    }\n",
       "</style>\n",
       "<table border=\"1\" class=\"dataframe\">\n",
       "  <thead>\n",
       "    <tr style=\"text-align: right;\">\n",
       "      <th></th>\n",
       "      <th>holiday</th>\n",
       "    </tr>\n",
       "  </thead>\n",
       "  <tbody>\n",
       "    <tr>\n",
       "      <th>1444</th>\n",
       "      <td>No</td>\n",
       "    </tr>\n",
       "    <tr>\n",
       "      <th>1652</th>\n",
       "      <td>No</td>\n",
       "    </tr>\n",
       "    <tr>\n",
       "      <th>7496</th>\n",
       "      <td>Yes</td>\n",
       "    </tr>\n",
       "    <tr>\n",
       "      <th>1893</th>\n",
       "      <td>Yes</td>\n",
       "    </tr>\n",
       "    <tr>\n",
       "      <th>3880</th>\n",
       "      <td>No</td>\n",
       "    </tr>\n",
       "  </tbody>\n",
       "</table>\n",
       "</div>"
      ],
      "text/plain": [
       "     holiday\n",
       "1444      No\n",
       "1652      No\n",
       "7496     Yes\n",
       "1893     Yes\n",
       "3880      No"
      ]
     },
     "execution_count": 8,
     "metadata": {},
     "output_type": "execute_result"
    }
   ],
   "source": [
    "X_train_cat.head()"
   ]
  },
  {
   "cell_type": "markdown",
   "id": "f163d0db",
   "metadata": {},
   "source": [
    "<br>\n",
    "\n",
    "### Apply OneHotEncoder on categorical columns"
   ]
  },
  {
   "cell_type": "code",
   "execution_count": 9,
   "id": "ce00cc10",
   "metadata": {
    "scrolled": false
   },
   "outputs": [],
   "source": [
    "ohe = OneHotEncoder(drop='first')\n",
    "ohe.fit(X_train_cat)\n",
    "\n",
    "X_train_cat_enc = ohe.transform(X_train_cat).toarray()\n",
    "X_test_cat_enc  = ohe.transform(X_test_cat).toarray()\n",
    "\n",
    "X_train_cat_enc = pd.DataFrame(X_train_cat_enc, columns=ohe.get_feature_names_out(), index=X_train_cat.index)\n",
    "X_test_cat_enc  = pd.DataFrame(X_test_cat_enc, columns=ohe.get_feature_names_out(), index=X_test_cat.index)"
   ]
  },
  {
   "cell_type": "markdown",
   "id": "01d01b5e",
   "metadata": {},
   "source": [
    "#### Store OneHotEncoder to file"
   ]
  },
  {
   "cell_type": "code",
   "execution_count": 10,
   "id": "5ba96cd5",
   "metadata": {},
   "outputs": [],
   "source": [
    "with open(config['encoder']['onehot'], 'wb') as file:\n",
    "    pickle.dump(ohe, file, pickle.HIGHEST_PROTOCOL)"
   ]
  },
  {
   "cell_type": "markdown",
   "id": "2a20ac0f",
   "metadata": {},
   "source": [
    "<br>\n",
    "\n",
    "### Apply StandardScaler to numerical columns"
   ]
  },
  {
   "cell_type": "code",
   "execution_count": 11,
   "id": "a18af2d2",
   "metadata": {
    "scrolled": false
   },
   "outputs": [],
   "source": [
    "stdScaler = StandardScaler()\n",
    "stdScaler.fit(X_train_num)\n",
    "\n",
    "X_train_num_scaled = stdScaler.transform(X_train_num)\n",
    "X_train_num_scaled = pd.DataFrame(X_train_num_scaled, columns=X_train_num.columns, index=X_train_num.index)\n",
    "\n",
    "X_test_num_scaled = stdScaler.transform(X_test_num)\n",
    "X_test_num_scaled = pd.DataFrame(X_test_num_scaled, columns=X_test_num.columns, index=X_test_num.index)"
   ]
  },
  {
   "cell_type": "markdown",
   "id": "1a401a48",
   "metadata": {},
   "source": [
    "#### Store StandardScaler to file"
   ]
  },
  {
   "cell_type": "code",
   "execution_count": 12,
   "id": "805b7e79",
   "metadata": {},
   "outputs": [],
   "source": [
    "with open(config['scaler']['standard'], 'wb') as file:\n",
    "    pickle.dump(stdScaler, file, pickle.HIGHEST_PROTOCOL)"
   ]
  },
  {
   "cell_type": "markdown",
   "id": "ec53c48d",
   "metadata": {},
   "source": [
    "<br>\n",
    "\n",
    "### Apply MinMaxScaler to numerical columns"
   ]
  },
  {
   "cell_type": "code",
   "execution_count": 13,
   "id": "82998282",
   "metadata": {
    "scrolled": false
   },
   "outputs": [],
   "source": [
    "minmax = MinMaxScaler()\n",
    "minmax.fit(X_train_num_scaled)\n",
    "\n",
    "X_train_num_scaled = minmax.transform(X_train_num_scaled)\n",
    "X_train_num_scaled = pd.DataFrame(X_train_num_scaled, columns=X_train_num.columns, index=X_train_num.index)\n",
    "\n",
    "X_test_num_scaled = minmax.transform(X_test_num_scaled)\n",
    "X_test_num_scaled = pd.DataFrame(X_test_num_scaled, columns=X_test_num.columns, index=X_test_num.index)"
   ]
  },
  {
   "cell_type": "markdown",
   "id": "f3f2c8af",
   "metadata": {},
   "source": [
    "#### Store MinMaxScaler to file"
   ]
  },
  {
   "cell_type": "code",
   "execution_count": 14,
   "id": "02a325c4",
   "metadata": {},
   "outputs": [],
   "source": [
    "with open(config['scaler']['minmax'], 'wb') as file:\n",
    "    pickle.dump(minmax, file, pickle.HIGHEST_PROTOCOL)"
   ]
  },
  {
   "cell_type": "markdown",
   "id": "89fad88f",
   "metadata": {},
   "source": [
    "#### Build final dataframes"
   ]
  },
  {
   "cell_type": "code",
   "execution_count": 15,
   "id": "2fdb2adc",
   "metadata": {},
   "outputs": [],
   "source": [
    "X_train_final = pd.concat([X_train_cat_enc, X_train_num_scaled], axis=1)\n",
    "X_test_final  = pd.concat([X_test_cat_enc, X_test_num_scaled], axis=1)"
   ]
  },
  {
   "cell_type": "markdown",
   "id": "929f2c7f",
   "metadata": {},
   "source": [
    "<br>\n",
    "\n",
    "### Apply KNeighborRegression"
   ]
  },
  {
   "cell_type": "code",
   "execution_count": 16,
   "id": "af98ff21",
   "metadata": {
    "scrolled": false
   },
   "outputs": [
    {
     "data": {
      "text/html": [
       "<style>#sk-container-id-1 {color: black;background-color: white;}#sk-container-id-1 pre{padding: 0;}#sk-container-id-1 div.sk-toggleable {background-color: white;}#sk-container-id-1 label.sk-toggleable__label {cursor: pointer;display: block;width: 100%;margin-bottom: 0;padding: 0.3em;box-sizing: border-box;text-align: center;}#sk-container-id-1 label.sk-toggleable__label-arrow:before {content: \"▸\";float: left;margin-right: 0.25em;color: #696969;}#sk-container-id-1 label.sk-toggleable__label-arrow:hover:before {color: black;}#sk-container-id-1 div.sk-estimator:hover label.sk-toggleable__label-arrow:before {color: black;}#sk-container-id-1 div.sk-toggleable__content {max-height: 0;max-width: 0;overflow: hidden;text-align: left;background-color: #f0f8ff;}#sk-container-id-1 div.sk-toggleable__content pre {margin: 0.2em;color: black;border-radius: 0.25em;background-color: #f0f8ff;}#sk-container-id-1 input.sk-toggleable__control:checked~div.sk-toggleable__content {max-height: 200px;max-width: 100%;overflow: auto;}#sk-container-id-1 input.sk-toggleable__control:checked~label.sk-toggleable__label-arrow:before {content: \"▾\";}#sk-container-id-1 div.sk-estimator input.sk-toggleable__control:checked~label.sk-toggleable__label {background-color: #d4ebff;}#sk-container-id-1 div.sk-label input.sk-toggleable__control:checked~label.sk-toggleable__label {background-color: #d4ebff;}#sk-container-id-1 input.sk-hidden--visually {border: 0;clip: rect(1px 1px 1px 1px);clip: rect(1px, 1px, 1px, 1px);height: 1px;margin: -1px;overflow: hidden;padding: 0;position: absolute;width: 1px;}#sk-container-id-1 div.sk-estimator {font-family: monospace;background-color: #f0f8ff;border: 1px dotted black;border-radius: 0.25em;box-sizing: border-box;margin-bottom: 0.5em;}#sk-container-id-1 div.sk-estimator:hover {background-color: #d4ebff;}#sk-container-id-1 div.sk-parallel-item::after {content: \"\";width: 100%;border-bottom: 1px solid gray;flex-grow: 1;}#sk-container-id-1 div.sk-label:hover label.sk-toggleable__label {background-color: #d4ebff;}#sk-container-id-1 div.sk-serial::before {content: \"\";position: absolute;border-left: 1px solid gray;box-sizing: border-box;top: 0;bottom: 0;left: 50%;z-index: 0;}#sk-container-id-1 div.sk-serial {display: flex;flex-direction: column;align-items: center;background-color: white;padding-right: 0.2em;padding-left: 0.2em;position: relative;}#sk-container-id-1 div.sk-item {position: relative;z-index: 1;}#sk-container-id-1 div.sk-parallel {display: flex;align-items: stretch;justify-content: center;background-color: white;position: relative;}#sk-container-id-1 div.sk-item::before, #sk-container-id-1 div.sk-parallel-item::before {content: \"\";position: absolute;border-left: 1px solid gray;box-sizing: border-box;top: 0;bottom: 0;left: 50%;z-index: -1;}#sk-container-id-1 div.sk-parallel-item {display: flex;flex-direction: column;z-index: 1;position: relative;background-color: white;}#sk-container-id-1 div.sk-parallel-item:first-child::after {align-self: flex-end;width: 50%;}#sk-container-id-1 div.sk-parallel-item:last-child::after {align-self: flex-start;width: 50%;}#sk-container-id-1 div.sk-parallel-item:only-child::after {width: 0;}#sk-container-id-1 div.sk-dashed-wrapped {border: 1px dashed gray;margin: 0 0.4em 0.5em 0.4em;box-sizing: border-box;padding-bottom: 0.4em;background-color: white;}#sk-container-id-1 div.sk-label label {font-family: monospace;font-weight: bold;display: inline-block;line-height: 1.2em;}#sk-container-id-1 div.sk-label-container {text-align: center;}#sk-container-id-1 div.sk-container {/* jupyter's `normalize.less` sets `[hidden] { display: none; }` but bootstrap.min.css set `[hidden] { display: none !important; }` so we also need the `!important` here to be able to override the default hidden behavior on the sphinx rendered scikit-learn.org. See: https://github.com/scikit-learn/scikit-learn/issues/21755 */display: inline-block !important;position: relative;}#sk-container-id-1 div.sk-text-repr-fallback {display: none;}</style><div id=\"sk-container-id-1\" class=\"sk-top-container\"><div class=\"sk-text-repr-fallback\"><pre>KNeighborsRegressor(weights=&#x27;distance&#x27;)</pre><b>In a Jupyter environment, please rerun this cell to show the HTML representation or trust the notebook. <br />On GitHub, the HTML representation is unable to render, please try loading this page with nbviewer.org.</b></div><div class=\"sk-container\" hidden><div class=\"sk-item\"><div class=\"sk-estimator sk-toggleable\"><input class=\"sk-toggleable__control sk-hidden--visually\" id=\"sk-estimator-id-1\" type=\"checkbox\" checked><label for=\"sk-estimator-id-1\" class=\"sk-toggleable__label sk-toggleable__label-arrow\">KNeighborsRegressor</label><div class=\"sk-toggleable__content\"><pre>KNeighborsRegressor(weights=&#x27;distance&#x27;)</pre></div></div></div></div></div>"
      ],
      "text/plain": [
       "KNeighborsRegressor(weights='distance')"
      ]
     },
     "execution_count": 16,
     "metadata": {},
     "output_type": "execute_result"
    }
   ],
   "source": [
    "n_neighbors = 5\n",
    "knn = KNeighborsRegressor(n_neighbors, weights='distance')\n",
    "knn.fit(X_train_final, y_train)"
   ]
  },
  {
   "cell_type": "markdown",
   "id": "b2270e2f",
   "metadata": {},
   "source": [
    "#### Store KNN model to file"
   ]
  },
  {
   "cell_type": "code",
   "execution_count": 17,
   "id": "b789ae4f",
   "metadata": {},
   "outputs": [],
   "source": [
    "with open(config['model']['KNN'], 'wb') as file:\n",
    "    pickle.dump(knn, file, pickle.HIGHEST_PROTOCOL)"
   ]
  },
  {
   "cell_type": "markdown",
   "id": "9bcdaebc",
   "metadata": {},
   "source": [
    "<br>\n",
    "\n",
    "### Validate model"
   ]
  },
  {
   "cell_type": "code",
   "execution_count": 18,
   "id": "6f11d6dd",
   "metadata": {},
   "outputs": [],
   "source": [
    "y_train_pred = knn.predict(X_train_final)\n",
    "y_test_pred  = knn.predict(X_test_final)\n",
    "\n",
    "train_score = knn.score(X_train_final, y_train)\n",
    "test_score  = knn.score(X_test_final, y_test)"
   ]
  },
  {
   "cell_type": "code",
   "execution_count": 19,
   "id": "834b2132",
   "metadata": {
    "scrolled": false
   },
   "outputs": [
    {
     "name": "stdout",
     "output_type": "stream",
     "text": [
      "Train score: 1.0\n",
      "Test score: 0.7591879129374568\n"
     ]
    }
   ],
   "source": [
    "print(f'Train score: {train_score}')\n",
    "print(f'Test score: {test_score}')"
   ]
  },
  {
   "cell_type": "code",
   "execution_count": null,
   "id": "8a6ec09b",
   "metadata": {},
   "outputs": [],
   "source": [
    "fig,ax = plt.subplots(1, 2, figsize=(8,4))\n",
    "\n",
    "sx = sns.scatterplot(y=y_train_pred, x=y_train, ax=ax[0])\n",
    "sx = sns.lineplot(y=y_train, x=y_train, color='red', ax=ax[0])\n",
    "sx.set(title='Prediction on train set', xlabel='y', ylabel='y-predicted')\n",
    "\n",
    "sx = sns.scatterplot(y=y_test_pred, x=y_test, ax=ax[1])\n",
    "sx = sns.lineplot(y=y_test, x=y_test, color='red', ax=ax[1])\n",
    "sx.set(title='Prediction on test set', xlabel='y', ylabel='y-predicted')\n",
    "\n",
    "plt.tight_layout()\n",
    "plt.show()"
   ]
  },
  {
   "cell_type": "code",
   "execution_count": null,
   "id": "a4de18f9",
   "metadata": {
    "scrolled": false
   },
   "outputs": [],
   "source": [
    "fig,ax = plt.subplots(1,3)\n",
    "\n",
    "sax = sns.lineplot(data=X_train_final, x='temperature', y=y_train, ax=ax[0])\n",
    "sax.set(ylabel='Real bike rentals', ylim=(0,3000))\n",
    "sax.grid()\n",
    "\n",
    "sax = sns.lineplot(data=X_train_final, x='temperature', y=y_train_pred, ax=ax[1])\n",
    "sax.set(ylabel='Predicted train bike rentals', ylim=(0,3000))\n",
    "sax.grid()\n",
    "\n",
    "sax = sns.lineplot(data=X_test_final, x='temperature', y=y_test_pred, ax=ax[2])\n",
    "sax.set(ylabel='Predicted test bike rentals', ylim=(0,3000))\n",
    "sax.grid()\n",
    "\n",
    "plt.tight_layout()\n",
    "plt.show()"
   ]
  },
  {
   "cell_type": "code",
   "execution_count": null,
   "id": "b8f6f410",
   "metadata": {},
   "outputs": [],
   "source": [
    "fig,ax = plt.subplots(1,3)\n",
    "\n",
    "sax = sns.lineplot(data=X_train_final, x='hour', y=y_train, ax=ax[0])\n",
    "sax.set(ylabel='Real bike rentals', ylim=(0,3000))\n",
    "sax.grid()\n",
    "\n",
    "sax = sns.lineplot(data=X_train_final, x='hour', y=y_train_pred, ax=ax[1])\n",
    "sax.set(ylabel='Predicted train bike rentals', ylim=(0,3000))\n",
    "sax.grid()\n",
    "\n",
    "sax = sns.lineplot(data=X_test_final, x='hour', y=y_test_pred, ax=ax[2])\n",
    "sax.set(ylabel='Predicted test bike rentals', ylim=(0,3000))\n",
    "sax.grid()\n",
    "\n",
    "plt.tight_layout()\n",
    "plt.show()"
   ]
  },
  {
   "cell_type": "code",
   "execution_count": null,
   "id": "f175f362",
   "metadata": {
    "scrolled": true
   },
   "outputs": [],
   "source": [
    "scores = []\n",
    "for k in range(2,30):\n",
    "    model = KNeighborsRegressor(n_neighbors=k)\n",
    "\n",
    "    model.fit(X_train_final, y_train)\n",
    "   # knn_models.append(model)\n",
    "\n",
    "    score = model.score(X_test_final, y_test)\n",
    "    scores.append(score)\n",
    "    print(f'Neighbours={k} score={score}')\n",
    "\n",
    "plt.figure(figsize=(10,6))\n",
    "plt.plot(range(2,30), scores, color = 'blue', linestyle='dashed',\n",
    "         marker='o', markerfacecolor='red', markersize=10)\n",
    "plt.title('R2-scores vs. K Value')\n",
    "plt.xticks(range(1,30))\n",
    "#plt.gca().invert_yaxis()\n",
    "plt.xlabel('K')\n",
    "plt.ylabel('R2')"
   ]
  }
 ],
 "metadata": {
  "kernelspec": {
   "display_name": "Python 3 (ipykernel)",
   "language": "python",
   "name": "python3"
  },
  "language_info": {
   "codemirror_mode": {
    "name": "ipython",
    "version": 3
   },
   "file_extension": ".py",
   "mimetype": "text/x-python",
   "name": "python",
   "nbconvert_exporter": "python",
   "pygments_lexer": "ipython3",
   "version": "3.9.13"
  }
 },
 "nbformat": 4,
 "nbformat_minor": 5
}
