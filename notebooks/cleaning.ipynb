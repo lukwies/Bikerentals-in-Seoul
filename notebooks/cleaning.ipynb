{
 "cells": [
  {
   "cell_type": "markdown",
   "id": "fa05f192",
   "metadata": {},
   "source": [
    "# Bikesharing in Seoul\n",
    "* https://archive.ics.uci.edu/ml/datasets/Seoul+Bike+Sharing+Demand\n",
    "\n",
    "------------------------\n",
    "\n",
    "## Data cleaning\n",
    "\n",
    " 1. Normalize column names\n",
    " 2. Change type of column `date` to **datetime64**\n",
    " 3. Change values of table `holiday` from **Holiday**/**No Holiday** to **Yes**/**No**.\n",
    " 4. Create column `daytime` with values **Morning, Noon, Afternoon, Evening, Night**.\n",
    " 5. Create column `temperaure_type` with values: **Hot, Warm, Mild, Cold, Frost**.\n",
    "\n",
    "\n",
    "#### Columns after cleaning\n",
    "\n",
    "|Column Name|Datatype|Type|Values|\n",
    "|:----------|:-------|:---|:-----|\n",
    "|date|datetime64|categorical|2017/12/1 - 2018/11/30|\n",
    "|rented_bike_count|int64|numerical|0 - 3556|\n",
    "|hour|int64|numerical|0 - 23|\n",
    "|temperature|float64|numerical|-17.8 - 39.4|\n",
    "|humidity|int64|numerical|0.0 - 98.0|\n",
    "|wind_speed|float64|numerical|0.0 - 7.4|\n",
    "|visibility|int64|numeric|27-2000|\n",
    "|dew_point_temperature|float64|numerical|-30.6 - 27.2|\n",
    "|solar_radiation|float64|numerical|0.0 - 3.52|\n",
    "|rainfall|float|numerical|0.0 - 35.0|\n",
    "|snowfall|float|numerical|0.0 - 8.0|\n",
    "|seasons|object|categorical|Spring,Summer,Autumn,Winter|\n",
    "|holiday|object|categorical|Yes,No|\n",
    "|functioning_day|object|categorical|Yes,No|\n",
    "|daytime|object|categorical|Morning,Noon,Afternoon,Evening,Night|\n",
    "|temperature_type|object|categorical|Hot,Warm,Mild,Cold,Frost|"
   ]
  },
  {
   "cell_type": "code",
   "execution_count": 1,
   "id": "b9f23878",
   "metadata": {},
   "outputs": [],
   "source": [
    "import pandas as pd\n",
    "import numpy as npb\n",
    "import seaborn as sns\n",
    "import yaml\n",
    "import re"
   ]
  },
  {
   "cell_type": "code",
   "execution_count": 2,
   "id": "6302b1fd",
   "metadata": {},
   "outputs": [],
   "source": [
    "cmt='''def show_unique_values(df):\n",
    "    for col in df.columns:\n",
    "        print(f\"COLUMN '{col}' ({df[col].dtype})\")\n",
    "        print(df[col].unique())\n",
    "        print()\n",
    "        \n",
    "show_unique_values(df)'''"
   ]
  },
  {
   "cell_type": "code",
   "execution_count": 3,
   "id": "9c221c69",
   "metadata": {},
   "outputs": [],
   "source": [
    "def normalize_column_names(columns):\n",
    "    '''\n",
    "    Normalize column names.\n",
    "\n",
    "    The following transformations will be applied:\n",
    "    \n",
    "    - Remove parenthesis and their content\n",
    "    - Convert all letters to lower case\n",
    "    - Replace whitespaces with underlines (' ' -> '_')\n",
    "    - Remove leading/trailing whitespaces, tabs and newlines\n",
    "\n",
    "    Args:\n",
    "        columns: List of column names\n",
    "    Return:\n",
    "        List of normalized columns\n",
    "    '''\n",
    "    norm_columns = []\n",
    "    for col in columns:\n",
    "        # Remove parenthesis and their content\n",
    "        colstr = re.sub('\\(.*\\)', '', col)\n",
    "        # To lower case letters, replace ' ' to '_' and\n",
    "        # remove leading/trailing whitespaces\n",
    "        colstr = colstr.strip().lower().replace(' ', '_')\n",
    "        norm_columns.append(colstr)\n",
    "\n",
    "    return norm_columns"
   ]
  },
  {
   "cell_type": "code",
   "execution_count": 4,
   "id": "785a9890",
   "metadata": {},
   "outputs": [],
   "source": [
    "def adjust_column_types(data):\n",
    "    '''\n",
    "    Change datatype of column \"date\" to pd.datetime64.\n",
    "\n",
    "    Args:\n",
    "        data: Dataframe\n",
    "    Return:\n",
    "        Cleaned dataframe\n",
    "    '''\n",
    "    df = data.copy()\n",
    "    df['date'] = pd.to_datetime(df['date'], format='%d/%m/%Y', errors='coerce')    \n",
    "    return df"
   ]
  },
  {
   "cell_type": "code",
   "execution_count": 5,
   "id": "b80c10a3",
   "metadata": {},
   "outputs": [],
   "source": [
    "def change_holiday_values(data):\n",
    "    '''\n",
    "    Changes values of the column holiday.\n",
    "    \n",
    "      \"Holiday\"    -> \"Yes\"\n",
    "      \"No Holiday\" -> \"No\"\n",
    "\n",
    "    Args:\n",
    "        data: Dataset to clean\n",
    "    Return:\n",
    "        Cleaned dataset\n",
    "    '''\n",
    "    df = data.copy()\n",
    "    df['holiday'] = df['holiday'].replace({'Holiday':'Yes', 'No Holiday':'No'})\n",
    "    return df"
   ]
  },
  {
   "cell_type": "code",
   "execution_count": 6,
   "id": "9cd2d129",
   "metadata": {},
   "outputs": [],
   "source": [
    "def add_daytime_column(data):\n",
    "    '''\n",
    "    Creates a new column \"daytime\" depending on column \"hour\".\n",
    "    Values of the new column can be Morning, Noon, Afternoon, Evening or Night.\n",
    "\n",
    "      hour 4 to 10  -> Morning\n",
    "      hour 11 to 14 -> Noon\n",
    "      hour 15 to 17 -> Afternoon\n",
    "      hour 18 to 21 -> Evening\n",
    "      hour 22 to 3  -> Night\n",
    "\n",
    "    Args:\n",
    "        data: Dataframe to add column to\n",
    "    Return:\n",
    "        New dataframe\n",
    "    '''\n",
    "    def get_time_of_day(hour):\n",
    "        if hour >= 4 and hour < 11:\n",
    "            return \"Morning\"\n",
    "        elif hour >= 11 and hour < 15:\n",
    "            return \"Noon\"\n",
    "        elif hour >= 15 and hour < 18:\n",
    "            return \"Afternoon\"\n",
    "        elif hour >= 18 and hour < 22:\n",
    "            return \"Evening\"\n",
    "        else:\n",
    "            return \"Night\"\n",
    "    df = data.copy()\n",
    "    df['daytime'] = df['hour'].apply(get_time_of_day)\n",
    "    return df"
   ]
  },
  {
   "cell_type": "code",
   "execution_count": 7,
   "id": "a988a9f4",
   "metadata": {},
   "outputs": [],
   "source": [
    "def add_temperature_type_column(data):\n",
    "    '''\n",
    "    Creates a new column \"temperature_type\" depending on column \"temperature\".\n",
    "    Values of the new column can be Hot, Warm, Mild, Cold or Frost.\n",
    "\n",
    "      temp > 27  -> Hot\n",
    "      temp 19-27 -> Warm\n",
    "      temp 10-19 -> Mild\n",
    "      temp 0-10  -> Cold\n",
    "      temp < 0   -> Frost\n",
    "\n",
    "    Args:\n",
    "        data: Dataframe to add column to\n",
    "    Return:\n",
    "        New dataframe\n",
    "    '''   \n",
    "    def get_temperature_type(temp):\n",
    "        if temp > 27:\n",
    "            return \"Hot\"\n",
    "        elif temp > 19 and temp <= 27:\n",
    "            return \"Warm\"\n",
    "        elif temp > 10 and temp <= 19:\n",
    "            return \"Mild\"\n",
    "        elif temp >= 0 and temp <= 10:\n",
    "            return \"Cold\"\n",
    "        else:\n",
    "            return \"Frost\"\n",
    "    df = data.copy()\n",
    "    df['temperature_type'] = df['temperature'].apply(get_temperature_type)\n",
    "    return df"
   ]
  },
  {
   "cell_type": "code",
   "execution_count": 8,
   "id": "82c2540b",
   "metadata": {},
   "outputs": [],
   "source": [
    "def clean_data(data):\n",
    "    '''\n",
    "    Clean the total bike sharing dataset.\n",
    "    \n",
    "    Args:\n",
    "        data: Dataset to clean\n",
    "    Return:\n",
    "        Cleaned dataset\n",
    "    '''\n",
    "    \n",
    "    df = data.copy()\n",
    "    df.columns = normalize_column_names(df)\n",
    "    df = adjust_column_types(df)\n",
    "    df = change_holiday_values(df)\n",
    "    df = add_daytime_column(df)\n",
    "    df = add_temperature_type_column(df)\n",
    "\n",
    "    return df"
   ]
  },
  {
   "cell_type": "markdown",
   "id": "6e6b9d01",
   "metadata": {
    "scrolled": false
   },
   "source": [
    "#### Open YAML config file"
   ]
  },
  {
   "cell_type": "code",
   "execution_count": 9,
   "id": "d4eb3ab8",
   "metadata": {},
   "outputs": [],
   "source": [
    "# Open yaml configs\n",
    "with open('../params.yaml') as file:\n",
    "    config = yaml.safe_load(file)"
   ]
  },
  {
   "cell_type": "markdown",
   "id": "f75004e6",
   "metadata": {},
   "source": [
    "#### Load dataset"
   ]
  },
  {
   "cell_type": "code",
   "execution_count": 10,
   "id": "e1f7eaa2",
   "metadata": {
    "scrolled": true
   },
   "outputs": [],
   "source": [
    "df = pd.read_csv(config['data']['csv_raw'])"
   ]
  },
  {
   "cell_type": "markdown",
   "id": "c75a9849",
   "metadata": {
    "scrolled": true
   },
   "source": [
    "#### Clean data"
   ]
  },
  {
   "cell_type": "code",
   "execution_count": 11,
   "id": "fece7994",
   "metadata": {
    "scrolled": true
   },
   "outputs": [],
   "source": [
    "df_clean = clean_data(df)"
   ]
  },
  {
   "cell_type": "markdown",
   "id": "d206e50b",
   "metadata": {},
   "source": [
    "#### Store cleaned data to file"
   ]
  },
  {
   "cell_type": "code",
   "execution_count": 12,
   "id": "150ded66",
   "metadata": {},
   "outputs": [],
   "source": [
    "df_clean.to_csv(config['data']['csv_cleaned'], index=False)"
   ]
  },
  {
   "cell_type": "markdown",
   "id": "89067252",
   "metadata": {},
   "source": [
    "#### Check cleaned data"
   ]
  },
  {
   "cell_type": "code",
   "execution_count": 13,
   "id": "f7962223",
   "metadata": {},
   "outputs": [
    {
     "data": {
      "text/plain": [
       "0"
      ]
     },
     "execution_count": 13,
     "metadata": {},
     "output_type": "execute_result"
    }
   ],
   "source": [
    "df_clean.isna().sum().sum()"
   ]
  },
  {
   "cell_type": "code",
   "execution_count": 14,
   "id": "1294ec29",
   "metadata": {},
   "outputs": [
    {
     "name": "stdout",
     "output_type": "stream",
     "text": [
      "<class 'pandas.core.frame.DataFrame'>\n",
      "RangeIndex: 8760 entries, 0 to 8759\n",
      "Data columns (total 16 columns):\n",
      " #   Column                 Non-Null Count  Dtype         \n",
      "---  ------                 --------------  -----         \n",
      " 0   date                   8760 non-null   datetime64[ns]\n",
      " 1   rented_bike_count      8760 non-null   int64         \n",
      " 2   hour                   8760 non-null   int64         \n",
      " 3   temperature            8760 non-null   float64       \n",
      " 4   humidity               8760 non-null   int64         \n",
      " 5   wind_speed             8760 non-null   float64       \n",
      " 6   visibility             8760 non-null   int64         \n",
      " 7   dew_point_temperature  8760 non-null   float64       \n",
      " 8   solar_radiation        8760 non-null   float64       \n",
      " 9   rainfall               8760 non-null   float64       \n",
      " 10  snowfall               8760 non-null   float64       \n",
      " 11  seasons                8760 non-null   object        \n",
      " 12  holiday                8760 non-null   object        \n",
      " 13  functioning_day        8760 non-null   object        \n",
      " 14  daytime                8760 non-null   object        \n",
      " 15  temperature_type       8760 non-null   object        \n",
      "dtypes: datetime64[ns](1), float64(6), int64(4), object(5)\n",
      "memory usage: 1.1+ MB\n"
     ]
    }
   ],
   "source": [
    "df_clean.info()"
   ]
  }
 ],
 "metadata": {
  "kernelspec": {
   "display_name": "Python 3 (ipykernel)",
   "language": "python",
   "name": "python3"
  },
  "language_info": {
   "codemirror_mode": {
    "name": "ipython",
    "version": 3
   },
   "file_extension": ".py",
   "mimetype": "text/x-python",
   "name": "python",
   "nbconvert_exporter": "python",
   "pygments_lexer": "ipython3",
   "version": "3.10.7"
  }
 },
 "nbformat": 4,
 "nbformat_minor": 5
}
