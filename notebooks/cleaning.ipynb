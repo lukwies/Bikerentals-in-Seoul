{
 "cells": [
  {
   "cell_type": "markdown",
   "id": "fa05f192",
   "metadata": {},
   "source": [
    "<img width=\"200\" src=\"https://raw.githubusercontent.com/lukwies/mid-bootcamp-project/main/data/img/bikes.png\">\n",
    "\n",
    "---\n",
    "\n",
    "\n",
    "# Bikesharing in Seoul / Data Cleaning\n",
    "\n",
    "---\n",
    "\n",
    "### Sources\n",
    "\n",
    " * Data: https://archive.ics.uci.edu/ml/datasets/Seoul+Bike+Sharing+Demand\n",
    " * Image: https://global.chinadaily.com.cn/a/201801/25/WS5a69cab3a3106e7dcc136a6d.html\n",
    "\n",
    "---\n",
    "\n",
    "### Tasks\n",
    "\n",
    " * Normalize column names\n",
    " * Change type of column `date` to **datetime64**\n",
    " * Change values of table `holiday` from **Holiday**/**No Holiday** to **Yes**/**No**.\n",
    " * Create column `daytime` with values **Morning, Noon, Afternoon, Evening, Night**.\n",
    " * Create column `temperature_type` with values: **Hot, Warm, Mild, Cold, Frost**.\n",
    " * Create column `month` which holds only the month extracted from date.\n",
    "\n",
    "---\n",
    "\n",
    "#### Columns after cleaning\n",
    "\n",
    "|Column Name|Datatype|Type|Values|Unit|\n",
    "|:----------|:-------|:---|:-----|:---|\n",
    "|date|datetime64|categorical|2017/12/1 - 2018/11/30|\n",
    "|month|int64|numerical|1-12|\n",
    "|hour|int64|numerical|0 - 23|\n",
    "|daytime|object|categorical|Morning,Noon,Afternoon,Evening,Night|\n",
    "|weekday|int64|numerical|0-6|\n",
    "|seasons|object|categorical|Spring,Summer,Autumn,Winter|\n",
    "|holiday|object|categorical|Yes,No|\n",
    "|functioning_day|object|categorical|Yes,No|\n",
    "|temperature|float64|numerical|-17.8 - 39.4|°C|\n",
    "|temperature_type|object|categorical|Hot,Warm,Mild,Cold,Frost|\n",
    "|humidity|int64|numerical|0.0 - 98.0|%|\n",
    "|wind_speed|float64|numerical|0.0 - 7.4|m/s|\n",
    "|visibility|int64|numeric|27-2000|10m|\n",
    "|solar_radiation|float64|numerical|0.0 - 3.52|MJ/m2|\n",
    "|rainfall|float|numerical|0.0 - 35.0|mm|\n",
    "|snowfall|float|numerical|0.0 - 8.0|cm|\n",
    "|rented_bike_count|int64|numerical|0 - 3556|"
   ]
  },
  {
   "cell_type": "code",
   "execution_count": 1,
   "id": "b9f23878",
   "metadata": {},
   "outputs": [],
   "source": [
    "import pandas as pd\n",
    "import numpy as npb\n",
    "import seaborn as sns\n",
    "import yaml\n",
    "import re"
   ]
  },
  {
   "cell_type": "code",
   "execution_count": 2,
   "id": "9c221c69",
   "metadata": {},
   "outputs": [],
   "source": [
    "def normalize_column_names(columns):\n",
    "    '''\n",
    "    Normalize column names.\n",
    "\n",
    "    The following transformations will be applied:\n",
    "    \n",
    "    - Remove parenthesis and their content\n",
    "    - Convert all letters to lower case\n",
    "    - Replace whitespaces with underlines (' ' -> '_')\n",
    "    - Remove leading/trailing whitespaces, tabs and newlines\n",
    "\n",
    "    Args:\n",
    "        columns: List of column names\n",
    "    Return:\n",
    "        List of normalized columns\n",
    "    '''\n",
    "    norm_columns = []\n",
    "    for col in columns:\n",
    "        # Remove parenthesis and their content\n",
    "        colstr = re.sub('\\(.*\\)', '', col)\n",
    "        # To lower case letters, replace ' ' to '_' and\n",
    "        # remove leading/trailing whitespaces\n",
    "        colstr = colstr.strip().lower().replace(' ', '_')\n",
    "        norm_columns.append(colstr)\n",
    "\n",
    "    return norm_columns"
   ]
  },
  {
   "cell_type": "code",
   "execution_count": 3,
   "id": "785a9890",
   "metadata": {},
   "outputs": [],
   "source": [
    "def adjust_column_types(data):\n",
    "    '''\n",
    "    Change datatype of column \"date\" to pd.datetime64.\n",
    "\n",
    "    Args:\n",
    "        data: Dataframe\n",
    "    Return:\n",
    "        Cleaned dataframe\n",
    "    '''\n",
    "    df = data.copy()\n",
    "    df['date'] = pd.to_datetime(df['date'], format='%d/%m/%Y', errors='coerce')    \n",
    "    return df"
   ]
  },
  {
   "cell_type": "code",
   "execution_count": 4,
   "id": "b80c10a3",
   "metadata": {},
   "outputs": [],
   "source": [
    "def change_holiday_values(data):\n",
    "    '''\n",
    "    Changes values of the column holiday.\n",
    "    \n",
    "      \"Holiday\"    -> \"Yes\"\n",
    "      \"No Holiday\" -> \"No\"\n",
    "\n",
    "    Args:\n",
    "        data: Dataset to clean\n",
    "    Return:\n",
    "        Cleaned dataset\n",
    "    '''\n",
    "    df = data.copy()\n",
    "    df['holiday'] = df['holiday'].replace({'Holiday':'Yes', 'No Holiday':'No'})\n",
    "    return df"
   ]
  },
  {
   "cell_type": "code",
   "execution_count": 5,
   "id": "9cd2d129",
   "metadata": {},
   "outputs": [],
   "source": [
    "def add_daytime_column(data):\n",
    "    '''\n",
    "    Creates a new column \"daytime\" depending on column \"hour\".\n",
    "    Values of the new column can be Morning, Noon, Afternoon, Evening or Night.\n",
    "\n",
    "      hour 4 to 10  -> Morning\n",
    "      hour 11 to 14 -> Noon\n",
    "      hour 15 to 17 -> Afternoon\n",
    "      hour 18 to 21 -> Evening\n",
    "      hour 22 to 3  -> Night\n",
    "\n",
    "    Args:\n",
    "        data: Dataframe to add column to\n",
    "    Return:\n",
    "        New dataframe\n",
    "    '''\n",
    "    def get_time_of_day(hour):\n",
    "        if hour >= 4 and hour < 11:\n",
    "            return \"Morning\"\n",
    "        elif hour >= 11 and hour < 15:\n",
    "            return \"Noon\"\n",
    "        elif hour >= 15 and hour < 18:\n",
    "            return \"Afternoon\"\n",
    "        elif hour >= 18 and hour < 22:\n",
    "            return \"Evening\"\n",
    "        else:\n",
    "            return \"Night\"\n",
    "    df = data.copy()\n",
    "    df['daytime'] = df['hour'].apply(get_time_of_day)\n",
    "    return df"
   ]
  },
  {
   "cell_type": "code",
   "execution_count": 6,
   "id": "3d3c38e9",
   "metadata": {},
   "outputs": [],
   "source": [
    "def add_weekday_column(data):\n",
    "    '''\n",
    "    Creates a new column \"weekday\" depending on column \"date\".\n",
    "\n",
    "    Args:\n",
    "        data: Dataframe to add column to\n",
    "    Return:\n",
    "        Updated dataframe\n",
    "    '''\n",
    "    df = data.copy()\n",
    "    df['weekday'] = df['date'].dt.weekday\n",
    "    return df"
   ]
  },
  {
   "cell_type": "code",
   "execution_count": 7,
   "id": "a988a9f4",
   "metadata": {},
   "outputs": [],
   "source": [
    "def add_temperature_type_column(data):\n",
    "    '''\n",
    "    Creates a new column \"temperature_type\" depending on column \"temperature\".\n",
    "    Values of the new column can be Hot, Warm, Mild, Cold or Frost.\n",
    "\n",
    "      temp > 30  -> Hot\n",
    "      temp 20-30 -> Warm\n",
    "      temp 10-20 -> Mild\n",
    "      temp 0-10  -> Cold\n",
    "      temp < 0   -> Frost\n",
    "\n",
    "    Args:\n",
    "        data: Dataframe to add column to\n",
    "    Return:\n",
    "        New dataframe\n",
    "    '''   \n",
    "    def get_temperature_type(temp):\n",
    "        if temp > 30:\n",
    "            return \"Hot\"\n",
    "        elif temp > 20 and temp <= 30:\n",
    "            return \"Warm\"\n",
    "        elif temp > 10 and temp <= 20:\n",
    "            return \"Mild\"\n",
    "        elif temp >= 0 and temp <= 10:\n",
    "            return \"Cold\"\n",
    "        else:\n",
    "            return \"Frost\"\n",
    "    df = data.copy()\n",
    "    df['temperature_type'] = df['temperature'].apply(get_temperature_type)\n",
    "    return df"
   ]
  },
  {
   "cell_type": "code",
   "execution_count": 8,
   "id": "c83964ff",
   "metadata": {},
   "outputs": [],
   "source": [
    "def add_month_column(data):\n",
    "    '''\n",
    "    Creates a new column with the month extracted from column date.\n",
    "    Args:\n",
    "        data: Dataframe to add column to\n",
    "    Return:\n",
    "        New dataframe\n",
    "    '''\n",
    "    df = data.copy()\n",
    "    df['month'] = pd.DatetimeIndex(df['date']).month\n",
    "    return df"
   ]
  },
  {
   "cell_type": "code",
   "execution_count": 9,
   "id": "87b299c3",
   "metadata": {},
   "outputs": [],
   "source": [
    "def reorder_columns(data):\n",
    "    '''\n",
    "    Reorder columns for a better overview.\n",
    "    Args:\n",
    "        data: Dataframe\n",
    "    Return:\n",
    "        Dataframe with different column order\n",
    "    '''\n",
    "    df = data.copy()\n",
    "    return df[['date', 'month', 'hour', 'daytime', 'weekday',\n",
    "               'seasons', 'holiday', 'functioning_day',\n",
    "               'temperature', 'temperature_type',\n",
    "               'humidity', 'wind_speed', 'visibility',\n",
    "               'solar_radiation', 'rainfall', 'snowfall',\n",
    "               'rented_bike_count'\n",
    "              ]]"
   ]
  },
  {
   "cell_type": "code",
   "execution_count": 10,
   "id": "82c2540b",
   "metadata": {},
   "outputs": [],
   "source": [
    "def clean_data(data):\n",
    "    '''\n",
    "    Clean the total bike sharing dataset.\n",
    "    \n",
    "    Args:\n",
    "        data: Dataset to clean\n",
    "    Return:\n",
    "        Cleaned dataset\n",
    "    '''\n",
    "    df = data.copy()\n",
    "    df.columns = normalize_column_names(df)\n",
    "    df = adjust_column_types(df)\n",
    "    df = change_holiday_values(df)\n",
    "    df = add_weekday_column(df)\n",
    "    df = add_daytime_column(df)\n",
    "    df = add_temperature_type_column(df)\n",
    "    df = add_month_column(df)\n",
    "    df = reorder_columns(df)\n",
    "\n",
    "    return df"
   ]
  },
  {
   "cell_type": "markdown",
   "id": "6e6b9d01",
   "metadata": {
    "scrolled": false
   },
   "source": [
    "#### Open YAML config file"
   ]
  },
  {
   "cell_type": "code",
   "execution_count": 11,
   "id": "d4eb3ab8",
   "metadata": {},
   "outputs": [],
   "source": [
    "# Open yaml configs\n",
    "with open('../params.yaml') as file:\n",
    "    config = yaml.safe_load(file)"
   ]
  },
  {
   "cell_type": "markdown",
   "id": "f75004e6",
   "metadata": {},
   "source": [
    "#### Load dataset"
   ]
  },
  {
   "cell_type": "code",
   "execution_count": 12,
   "id": "e1f7eaa2",
   "metadata": {
    "scrolled": true
   },
   "outputs": [],
   "source": [
    "df = pd.read_csv(config['data']['csv_raw'])"
   ]
  },
  {
   "cell_type": "markdown",
   "id": "c75a9849",
   "metadata": {
    "scrolled": true
   },
   "source": [
    "#### Clean data"
   ]
  },
  {
   "cell_type": "code",
   "execution_count": 13,
   "id": "fece7994",
   "metadata": {
    "scrolled": true
   },
   "outputs": [],
   "source": [
    "df_clean = clean_data(df)"
   ]
  },
  {
   "cell_type": "markdown",
   "id": "d206e50b",
   "metadata": {},
   "source": [
    "#### Store cleaned data to file"
   ]
  },
  {
   "cell_type": "code",
   "execution_count": 14,
   "id": "150ded66",
   "metadata": {},
   "outputs": [],
   "source": [
    "df_clean.to_csv(config['data']['csv_cleaned'], index=False)"
   ]
  },
  {
   "cell_type": "markdown",
   "id": "89067252",
   "metadata": {},
   "source": [
    "#### Check cleaned data"
   ]
  },
  {
   "cell_type": "code",
   "execution_count": 15,
   "id": "f7962223",
   "metadata": {},
   "outputs": [
    {
     "data": {
      "text/plain": [
       "0"
      ]
     },
     "execution_count": 15,
     "metadata": {},
     "output_type": "execute_result"
    }
   ],
   "source": [
    "df_clean.isna().sum().sum()"
   ]
  },
  {
   "cell_type": "code",
   "execution_count": 16,
   "id": "1294ec29",
   "metadata": {
    "scrolled": true
   },
   "outputs": [
    {
     "name": "stdout",
     "output_type": "stream",
     "text": [
      "<class 'pandas.core.frame.DataFrame'>\n",
      "RangeIndex: 8760 entries, 0 to 8759\n",
      "Data columns (total 17 columns):\n",
      " #   Column             Non-Null Count  Dtype         \n",
      "---  ------             --------------  -----         \n",
      " 0   date               8760 non-null   datetime64[ns]\n",
      " 1   month              8760 non-null   int64         \n",
      " 2   hour               8760 non-null   int64         \n",
      " 3   daytime            8760 non-null   object        \n",
      " 4   weekday            8760 non-null   int64         \n",
      " 5   seasons            8760 non-null   object        \n",
      " 6   holiday            8760 non-null   object        \n",
      " 7   functioning_day    8760 non-null   object        \n",
      " 8   temperature        8760 non-null   float64       \n",
      " 9   temperature_type   8760 non-null   object        \n",
      " 10  humidity           8760 non-null   int64         \n",
      " 11  wind_speed         8760 non-null   float64       \n",
      " 12  visibility         8760 non-null   int64         \n",
      " 13  solar_radiation    8760 non-null   float64       \n",
      " 14  rainfall           8760 non-null   float64       \n",
      " 15  snowfall           8760 non-null   float64       \n",
      " 16  rented_bike_count  8760 non-null   int64         \n",
      "dtypes: datetime64[ns](1), float64(5), int64(6), object(5)\n",
      "memory usage: 1.1+ MB\n"
     ]
    }
   ],
   "source": [
    "df_clean.info()"
   ]
  }
 ],
 "metadata": {
  "kernelspec": {
   "display_name": "Python 3 (ipykernel)",
   "language": "python",
   "name": "python3"
  },
  "language_info": {
   "codemirror_mode": {
    "name": "ipython",
    "version": 3
   },
   "file_extension": ".py",
   "mimetype": "text/x-python",
   "name": "python",
   "nbconvert_exporter": "python",
   "pygments_lexer": "ipython3",
   "version": "3.9.13"
  }
 },
 "nbformat": 4,
 "nbformat_minor": 5
}
