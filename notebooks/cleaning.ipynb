{
 "cells": [
  {
   "cell_type": "markdown",
   "id": "fa05f192",
   "metadata": {},
   "source": [
    "<img width=\"200\" src=\"https://raw.githubusercontent.com/lukwies/mid-bootcamp-project/main/data/img/bikes.png\">\n",
    "\n",
    "---\n",
    "\n",
    "\n",
    "# Bikesharing in Seoul / Data Cleaning\n",
    "\n",
    "---\n",
    "\n",
    "### Sources\n",
    "\n",
    " * Data: https://archive.ics.uci.edu/ml/datasets/Seoul+Bike+Sharing+Demand\n",
    " * Image: https://global.chinadaily.com.cn/a/201801/25/WS5a69cab3a3106e7dcc136a6d.html\n",
    "\n",
    "---\n",
    "\n",
    "### Tasks\n",
    "\n",
    " * Normalize column names\n",
    " * Change type of column `date` to **datetime64**\n",
    " * Change values of table `holiday` from **Holiday**/**No Holiday** to **Yes**/**No**.\n",
    " * Create column `daytime` with values **Morning, Noon, Afternoon, Evening, Night**.\n",
    " * Create column `temperature_type` with values: **Hot, Warm, Mild, Cold, Frost**.\n",
    " * Create column `month` which holds only the month extracted from date.\n",
    "\n",
    "---\n",
    "\n",
    "#### Columns after cleaning\n",
    "\n",
    "|Column Name|Datatype|Type|Values|Unit|\n",
    "|:----------|:-------|:---|:-----|:---|\n",
    "|date|datetime64|categorical|2017/12/1 - 2018/11/30|\n",
    "|month|int64|numerical|1-12|\n",
    "|hour|int64|numerical|0 - 23|\n",
    "|daytime|object|categorical|Morning,Noon,Afternoon,Evening,Night|\n",
    "|weekday|int64|numerical|0-6|\n",
    "|seasons|object|categorical|Spring,Summer,Autumn,Winter|\n",
    "|holiday|object|categorical|Yes,No|\n",
    "|functioning_day|object|categorical|Yes,No|\n",
    "|temperature|float64|numerical|-17.8 - 39.4|°C|\n",
    "|temperature_type|object|categorical|Hot,Warm,Mild,Cold,Frost|\n",
    "|humidity|int64|numerical|0.0 - 98.0|%|\n",
    "|wind_speed|float64|numerical|0.0 - 7.4|m/s|\n",
    "|visibility|int64|numeric|27-2000|10m|\n",
    "|solar_radiation|float64|numerical|0.0 - 3.52|MJ/m2|\n",
    "|rainfall|float|numerical|0.0 - 35.0|mm|\n",
    "|snowfall|float|numerical|0.0 - 8.0|cm|\n",
    "|rented_bike_count|int64|numerical|0 - 3556|"
   ]
  },
  {
   "cell_type": "code",
   "execution_count": 7,
   "id": "b9f23878",
   "metadata": {},
   "outputs": [],
   "source": [
    "import pandas as pd\n",
    "import numpy as np\n",
    "import seaborn as sns\n",
    "import yaml\n",
    "import os\n",
    "import sys\n",
    "\n",
    "# Import my own functions\n",
    "sys.path.insert(0, os.path.abspath('../src'))\n",
    "import lib.cleaning as clean"
   ]
  },
  {
   "cell_type": "markdown",
   "id": "6e6b9d01",
   "metadata": {
    "scrolled": false
   },
   "source": [
    "#### Open YAML config file"
   ]
  },
  {
   "cell_type": "code",
   "execution_count": 8,
   "id": "d4eb3ab8",
   "metadata": {},
   "outputs": [],
   "source": [
    "# Open yaml configs\n",
    "with open('../params.yaml') as file:\n",
    "    config = yaml.safe_load(file)"
   ]
  },
  {
   "cell_type": "markdown",
   "id": "f75004e6",
   "metadata": {},
   "source": [
    "#### Load dataset"
   ]
  },
  {
   "cell_type": "code",
   "execution_count": 9,
   "id": "e1f7eaa2",
   "metadata": {
    "scrolled": true
   },
   "outputs": [],
   "source": [
    "df = pd.read_csv(config['data']['csv_raw'])"
   ]
  },
  {
   "cell_type": "markdown",
   "id": "c75a9849",
   "metadata": {
    "scrolled": true
   },
   "source": [
    "#### Clean data"
   ]
  },
  {
   "cell_type": "code",
   "execution_count": 10,
   "id": "fece7994",
   "metadata": {
    "scrolled": true
   },
   "outputs": [],
   "source": [
    "df_clean = clean.clean_data(df)"
   ]
  },
  {
   "cell_type": "markdown",
   "id": "d206e50b",
   "metadata": {},
   "source": [
    "#### Store cleaned data to file"
   ]
  },
  {
   "cell_type": "code",
   "execution_count": 11,
   "id": "150ded66",
   "metadata": {},
   "outputs": [],
   "source": [
    "df_clean.to_csv(config['data']['csv_cleaned'], index=False)"
   ]
  },
  {
   "cell_type": "markdown",
   "id": "89067252",
   "metadata": {},
   "source": [
    "#### Check cleaned data"
   ]
  },
  {
   "cell_type": "code",
   "execution_count": 12,
   "id": "f7962223",
   "metadata": {},
   "outputs": [
    {
     "data": {
      "text/plain": [
       "0"
      ]
     },
     "execution_count": 12,
     "metadata": {},
     "output_type": "execute_result"
    }
   ],
   "source": [
    "df_clean.isna().sum().sum()"
   ]
  },
  {
   "cell_type": "code",
   "execution_count": 13,
   "id": "1294ec29",
   "metadata": {
    "scrolled": true
   },
   "outputs": [
    {
     "name": "stdout",
     "output_type": "stream",
     "text": [
      "<class 'pandas.core.frame.DataFrame'>\n",
      "RangeIndex: 8760 entries, 0 to 8759\n",
      "Data columns (total 17 columns):\n",
      " #   Column             Non-Null Count  Dtype         \n",
      "---  ------             --------------  -----         \n",
      " 0   date               8760 non-null   datetime64[ns]\n",
      " 1   month              8760 non-null   int64         \n",
      " 2   hour               8760 non-null   int64         \n",
      " 3   daytime            8760 non-null   object        \n",
      " 4   weekday            8760 non-null   int64         \n",
      " 5   seasons            8760 non-null   object        \n",
      " 6   holiday            8760 non-null   object        \n",
      " 7   functioning_day    8760 non-null   object        \n",
      " 8   temperature        8760 non-null   float64       \n",
      " 9   temperature_type   8760 non-null   object        \n",
      " 10  humidity           8760 non-null   int64         \n",
      " 11  wind_speed         8760 non-null   float64       \n",
      " 12  visibility         8760 non-null   int64         \n",
      " 13  solar_radiation    8760 non-null   float64       \n",
      " 14  rainfall           8760 non-null   float64       \n",
      " 15  snowfall           8760 non-null   float64       \n",
      " 16  rented_bike_count  8760 non-null   int64         \n",
      "dtypes: datetime64[ns](1), float64(5), int64(6), object(5)\n",
      "memory usage: 1.1+ MB\n"
     ]
    }
   ],
   "source": [
    "df_clean.info()"
   ]
  }
 ],
 "metadata": {
  "kernelspec": {
   "display_name": "Python 3 (ipykernel)",
   "language": "python",
   "name": "python3"
  },
  "language_info": {
   "codemirror_mode": {
    "name": "ipython",
    "version": 3
   },
   "file_extension": ".py",
   "mimetype": "text/x-python",
   "name": "python",
   "nbconvert_exporter": "python",
   "pygments_lexer": "ipython3",
   "version": "3.9.13"
  }
 },
 "nbformat": 4,
 "nbformat_minor": 5
}
